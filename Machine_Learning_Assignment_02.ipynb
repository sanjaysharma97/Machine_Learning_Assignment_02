{
 "cells": [
  {
   "cell_type": "markdown",
   "id": "042bf12e",
   "metadata": {},
   "source": [
    "# 1. What is the concept of human learning? Please give two examples.\n",
    "\n",
    "ANSWER- Human learning is the form of learning which requires higher order mental processes like thinking, reasoning, intelligence, etc.We learn different concepts from childhood. For example:\n",
    "I) Learning through observation\n",
    "II) Learning through consequences\n",
    "III) Learning through Association"
   ]
  },
  {
   "cell_type": "markdown",
   "id": "baf371de",
   "metadata": {},
   "source": [
    "# 2. What different forms of human learning are there? Are there any machine learning equivalents?\n",
    "\n",
    "ANSWER- Different forms of ML are:\n",
    "        I) Artificial Intelligence Learning Theories:Machine Learning,Reinforcement Learning,Supervised,Unsupervised Learning.\n",
    "        II) ML equivalents like Linear Regression,decision tree,random forest and support vector machines are some commonly used techniques that are actually examples of supervised Learning."
   ]
  },
  {
   "cell_type": "markdown",
   "id": "235717ed",
   "metadata": {},
   "source": [
    "# 3. What is machine learning, and how does it work? What are the key responsibilities of machine learning?\n",
    "\n",
    "ANSWER- Machine learning is a branch of Artificial intelligence (AI) that teaches computers on how to think in a similar way to how humans do, like by Learning and improving upon past experiences.\n",
    "\n",
    "It works by exploring data and identifying patterns, and involves minimal human intervention.\n",
    "Roles and responsibilities of a machine learning engineer are:\n",
    "\n",
    "I)Designing ML systems.\n",
    "II)Researching and implementing ML algorithms and tools. Selecting appropriate data sets.\n",
    "III)Picking appropriate data representation methods. Identifying differences in data distribution that affects model performance. Verifying data quality.\n"
   ]
  },
  {
   "cell_type": "markdown",
   "id": "fa900aa0",
   "metadata": {},
   "source": [
    "# 4. Define the terms \"penalty\" and \"reward\" in the context of reinforcement learning.\n",
    "\n",
    "ANSWER- A Reinforcement Learning Algorithm, which may also be referred to as an agent, learns by interacting with its environment.The agent receives rewards by performing correctly and penalities for performing incorrectly."
   ]
  },
  {
   "cell_type": "markdown",
   "id": "b9fdc7dc",
   "metadata": {},
   "source": [
    "# 5. Explain the term \"learning as a search\"?\n",
    "\n",
    "ANSWER- Learning can be viewed as a search through the space of all sentences in a concept description language for a sentence that best describes the data.\n",
    "Here is an overview of how learning as a search work:\n",
    "I)Hypothesis space\n",
    "II)Search algorithm\n",
    "III)Evaluation function\n",
    "IV)Search strategy\n",
    "V)Optimization"
   ]
  },
  {
   "cell_type": "markdown",
   "id": "0ef9675d",
   "metadata": {},
   "source": [
    "# 6. What are the various goals of machine learning? What is the relationship between these and human learning?\n",
    "\n",
    "ANSWER- The Goal of machine learning, closely coupled with the goal of AI, is to achieve a through understanding about the nature of learning process (both human learning and other forms of learning), about the computational aspects of learning behaviors, and to implant the learning capability in computer systems.\n",
    "\n",
    "Humans have the ability to learn, however with the progress in artificial intelligence, machine learning has become a resource which can augment or even replace human learning. Learning does not happen all at once, but it builds upon and is shaped by previous knowledge."
   ]
  },
  {
   "cell_type": "markdown",
   "id": "3c034111",
   "metadata": {},
   "source": [
    "# 7. Illustrate the various elements of machine learning using a real-life illustration.\n",
    "\n",
    "ANSWER- The various elements of machine learning using a real-life are:\n",
    "I) Data\n",
    "II) Model\n",
    "III) Task\n",
    "IV) Loss function\n",
    "V)  Learning Algorithm\n",
    "VI) Evaluation\n",
    " and real-world machine learning projects involve additional complexities, such as data preprocessing, cross-validation, handling imbalanced classes, and dealing with overfitting."
   ]
  },
  {
   "cell_type": "markdown",
   "id": "96eb5d9f",
   "metadata": {},
   "source": [
    "# 8. Provide an example of the abstraction method.\n",
    "\n",
    "ANSWER- In Machine Learning, Abstraction is supported primarily at the level of modules. This can be justified in two ways: first, Data abstraction is mostly a question of program interfaces and therefore it arises naturally at the point where we have to consider program composition and modules."
   ]
  },
  {
   "cell_type": "markdown",
   "id": "69c52bbf",
   "metadata": {},
   "source": [
    "# 9. What is the concept of generalization? What function does it play in the machine learning process?\n",
    "\n",
    "ANSWER- Generalization refers to your model's ability to adapt properly to new, previously unseen data, drawn from the same distribution as the one used to create the model.\n",
    "In machine learning, generalization is a definition to demonstrate how well is a trained model to classify or forecast unseen data.This issue can result to classify an actual dog image as a cat from the unseen dataset. Therefore, data diversity is very important factor in order to make a good prediction.\n",
    "Its main function is to enable models to make accurate predictions or decisions on unseen data.\n"
   ]
  },
  {
   "cell_type": "markdown",
   "id": "d88a6f58",
   "metadata": {},
   "source": [
    "# 10. What is classification, exactly? What are the main distinctions between classification and regression?\n",
    "\n",
    "ANSWER- In machine learning,Classification refers to a predictive modeling problem where a class label is predicted for a given example of input data.Classification is the task of predicting a discrete class label. Whereas Regression is the task of predicting a continuous quantity."
   ]
  },
  {
   "cell_type": "markdown",
   "id": "1992b5cc",
   "metadata": {},
   "source": [
    "# 11. What is regression, and how does it work? Give an example of a real-world problem that was solved using regression.\n",
    "\n",
    "ANSWER- Regression is a supervised machine learning technique which is used to predict continous values.The ultimate goal of a regression algorithm is to plot a best fit line or a curve between the data.\n",
    "\n",
    "The three main metrics that are used for evaluating the trained regression model are Variance,Bias and Error.\n",
    "\n",
    "A simple linear regression real life example could mean you finding a relationship between the revenue and temperature, with a sample size for revenue as the dependent variable. In case of multiple variable regression, you can find the relationship between temperature, pricing and number of workers to the revenue."
   ]
  },
  {
   "cell_type": "markdown",
   "id": "4e8f6434",
   "metadata": {},
   "source": [
    "# 12. Describe the clustering mechanism in detail.\n",
    "\n",
    "ANSWER- Clustering is the task of dividing the population or data points into a number of groups such that data points in the same groups are more similar to other data points in the same group than those in other groups."
   ]
  },
  {
   "cell_type": "markdown",
   "id": "f1836ea0",
   "metadata": {},
   "source": [
    "# 13. Make brief observations on two of the following topics:\n",
    "\n",
    "i. Machine learning algorithms are used\n",
    "ii. Studying under supervision\n",
    "iii. Studying without supervision\n",
    "\n",
    "iv. Reinforcement learning is a form of learning based on positive reinforcement.\n",
    "\n",
    "ANSWER- i. Machine learning algorithms are used in NLP,image and speech recognition and autonomous vehicle.\n",
    "        iii. Studying without supervision: Studying without supervision refers to a learning approach where individuals engage in self-directed learning without formal guidance or instruction.It often involves utilizing various resources such as books, online tutorials, videos, and interactive platforms to acquire knowledge and skills. Studying without supervision promotes autonomy, self-discipline, and critical thinking as individuals take responsibility for their own learning journey."
   ]
  },
  {
   "cell_type": "code",
   "execution_count": null,
   "id": "e9a0c268",
   "metadata": {},
   "outputs": [],
   "source": []
  }
 ],
 "metadata": {
  "kernelspec": {
   "display_name": "Python 3 (ipykernel)",
   "language": "python",
   "name": "python3"
  },
  "language_info": {
   "codemirror_mode": {
    "name": "ipython",
    "version": 3
   },
   "file_extension": ".py",
   "mimetype": "text/x-python",
   "name": "python",
   "nbconvert_exporter": "python",
   "pygments_lexer": "ipython3",
   "version": "3.9.12"
  }
 },
 "nbformat": 4,
 "nbformat_minor": 5
}
